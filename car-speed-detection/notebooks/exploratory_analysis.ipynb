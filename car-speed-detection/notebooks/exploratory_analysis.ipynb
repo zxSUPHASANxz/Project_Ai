{
 "cells": [
  {
   "cell_type": "markdown",
   "metadata": {},
   "source": [
    "# Exploratory Data Analysis for Car Speed Detection\n",
    "\n",
    "This notebook is used for exploratory data analysis (EDA) on the results obtained from the car speed detection project. It includes visualizations and experiments with different detection and tracking algorithms."
   ]
  },
  {
   "cell_type": "code",
   "execution_count": null,
   "metadata": {
    "colab_type": "code",
    "id": "setup",
    "outputId": "setup"
   },
   "outputs": [],
   "source": [
    "# Import necessary libraries\n",
    "import cv2\n",
    "import numpy as np\n",
    "import matplotlib.pyplot as plt\n",
    "import pandas as pd\n",
    "\n",
    "# Set up the video path\n",
    "video_path = '../data/raw/cctv_footage.mp4'\n",
    "\n",
    "# Load the video\n",
    "cap = cv2.VideoCapture(video_path)\n",
    "\n",
    "# Check if the video opened successfully\n",
    "if not cap.isOpened():\n",
    "    print(\"Error: Could not open video.\")"
   ]
  },
  {
   "cell_type": "code",
   "execution_count": null,
   "metadata": {
    "colab_type": "code",
    "id": "frame_extraction",
    "outputId": "frame_extraction"
   },
   "outputs": [],
   "source": [
    "# Function to extract frames from the video\n",
    "def extract_frames(video_capture):\n",
    "    frames = []\n",
    "    while True:\n",
    "        ret, frame = video_capture.read()\n",
    "        if not ret:\n",
    "            break\n",
    "        frames.append(frame)\n",
    "    return frames\n",
    "\n",
    "# Extract frames\n",
    "frames = extract_frames(cap)\n",
    "cap.release()"
   ]
  },
  {
   "cell_type": "code",
   "execution_count": null,
   "metadata": {
    "colab_type": "code",
    "id": "visualization",
    "outputId": "visualization"
   },
   "outputs": [],
   "source": [
    "# Visualize some frames\n",
    "plt.figure(figsize=(15, 10))\n",
    "for i in range(5):\n",
    "    plt.subplot(1, 5, i + 1)\n",
    "    plt.imshow(cv2.cvtColor(frames[i], cv2.COLOR_BGR2RGB))\n",
    "    plt.axis('off')\n",
    "plt.show()"
   ]
  },
  {
   "cell_type": "markdown",
   "metadata": {},
   "source": [
    "## Next Steps\n",
    "1. Implement vehicle detection and speed calculation.\n",
    "2. Analyze the results and visualize speed data.\n",
    "3. Experiment with different algorithms for detection and tracking."
   ]
  }
 ],
 "metadata": {
  "kernelspec": {
   "display_name": "Python 3",
   "language": "python",
   "name": "python3"
  },
  "language_info": {
   "codemirror_mode": {
    "name": "ipython",
    "version": 3
   },
   "file_extension": ".py",
   "mimetype": "text/x-python",
   "name": "python",
   "nbconvert_exporter": "python",
   "pygments_lexer": "ipython3",
   "version": "3.8.5"
  }
 },
 "nbformat": 4,
 "nbformat_minor": 4
}