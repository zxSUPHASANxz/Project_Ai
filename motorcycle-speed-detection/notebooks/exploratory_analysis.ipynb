{
 "cells": [
  {
   "cell_type": "markdown",
   "metadata": {},
   "source": [
    "# Exploratory Data Analysis for Motorcycle Speed Detection\n",
    "\n",
    "This notebook is used for exploratory data analysis (EDA) on the results of motorcycle speed detection from CCTV footage. The goal is to visualize detection results and experiment with different detection algorithms."
   ]
  },
  {
   "cell_type": "code",
   "execution_count": null,
   "metadata": {},
   "outputs": [],
   "source": [
    "# Import necessary libraries\n",
    "import pandas as pd\n",
    "import matplotlib.pyplot as plt\n",
    "import seaborn as sns\n",
    "\n",
    "# Set visualization style\n",
    "sns.set(style='whitegrid')\n",
    "\n",
    "# Load detection results\n",
    "results_df = pd.read_csv('../data/processed/detection_results.csv')\n",
    "\n",
    "# Display the first few rows of the dataframe\n",
    "results_df.head()"
   ]
  },
  {
   "cell_type": "markdown",
   "metadata": {},
   "source": [
    "## Visualizing Speed Distribution\n",
    "\n",
    "Let's visualize the distribution of detected motorcycle speeds."
   ]
  },
  {
   "cell_type": "code",
   "execution_count": null,
   "metadata": {},
   "outputs": [],
   "source": [
    "# Plot speed distribution\n",
    "plt.figure(figsize=(10, 6))\n",
    "sns.histplot(results_df['speed'], bins=30, kde=True)\n",
    "plt.title('Distribution of Detected Motorcycle Speeds')\n",
    "plt.xlabel('Speed (km/h)')\n",
    "plt.ylabel('Frequency')\n",
    "plt.show()"
   ]
  },
  {
   "cell_type": "markdown",
   "metadata": {},
   "source": [
    "## Analyzing Detection Performance\n",
    "\n",
    "We can also analyze the performance of our detection algorithm by comparing detected speeds with ground truth values."
   ]
  },
  {
   "cell_type": "code",
   "execution_count": null,
   "metadata": {},
   "outputs": [],
   "source": [
    "# Load ground truth data\n",
    "ground_truth_df = pd.read_csv('../data/processed/ground_truth.csv')\n",
    "\n",
    "# Merge with results for comparison\n",
    "comparison_df = pd.merge(results_df, ground_truth_df, on='frame_id', suffixes=('_detected', '_ground_truth') )\n",
    "\n",
    "# Plot detected vs ground truth speeds\n",
    "plt.figure(figsize=(10, 6))\n",
    "sns.scatterplot(data=comparison_df, x='speed_ground_truth', y='speed_detected')\n",
    "plt.plot([comparison_df['speed_ground_truth'].min(), comparison_df['speed_ground_truth'].max()],\n",
    "         [comparison_df['speed_ground_truth'].min(), comparison_df['speed_ground_truth'].max()],\n",
    "         color='red', linestyle='--')\n",
    "plt.title('Detected Speed vs Ground Truth Speed')\n",
    "plt.xlabel('Ground Truth Speed (km/h)')\n",
    "plt.ylabel('Detected Speed (km/h)')\n",
    "plt.show()"
   ]
  },
  {
   "cell_type": "markdown",
   "metadata": {},
   "source": [
    "## Conclusion\n",
    "\n",
    "In this notebook, we performed exploratory data analysis on the results of motorcycle speed detection. We visualized the speed distribution and analyzed the performance of our detection algorithm. Further experiments can be conducted to improve detection accuracy."
   ]
  }
 ],
 "metadata": {
  "kernelspec": {
   "display_name": "Python 3",
   "language": "python",
   "name": "python3"
  },
  "language_info": {
   "codemirror_mode": {
    "name": "ipython",
    "version": 3
   },
   "file_extension": ".py",
   "mimetype": "text/x-python",
   "name": "python",
   "nbconvert_exporter": "python",
   "pygments_lexer": "ipython3",
   "version": "3.8.5"
  }
 },
 "nbformat": 4,
 "nbformat_minor": 4
}